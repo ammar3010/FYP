{
 "cells": [
  {
   "cell_type": "code",
   "execution_count": 1,
   "metadata": {},
   "outputs": [
    {
     "name": "stdout",
     "output_type": "stream",
     "text": [
      "<Response [200]>\n"
     ]
    }
   ],
   "source": [
    "import requests\n",
    "r = requests.get(\"http://localhost:8081/isAlive\")\n",
    "print(r)"
   ]
  },
  {
   "cell_type": "code",
   "execution_count": 2,
   "metadata": {},
   "outputs": [
    {
     "name": "stdout",
     "output_type": "stream",
     "text": [
      "{'Emotions': [{'admiration': 0.30089566111564636, 'amusement': 0.30386078357696533, 'anger': 0.32950517535209656, 'annoyance': 0.3390042781829834, 'approval': 0.32724472880363464, 'caring': 0.3107827305793762, 'confusion': 0.7470941543579102, 'curiosity': 0.3444024324417114, 'disappointment': 0.40707138180732727, 'disapproval': 0.3248932361602783, 'disgust': 0.3034973442554474, 'embarrassment': 0.3083065450191498, 'excitement': 0.33794307708740234, 'fear': 0.3110550343990326, 'gratitude': 0.331965833902359, 'joy': 0.31876739859580994, 'love': 0.3284197747707367, 'nervousness': 0.32766640186309814, 'neutral': 0.3816184997558594, 'optimism': 0.393658846616745, 'pride': 0.30310043692588806, 'realization': 0.30034708976745605, 'remorse': 0.3220870792865753, 'sadness': 0.32381999492645264, 'surprise': 0.31734588742256165}]}\n"
     ]
    }
   ],
   "source": [
    "url = \"http://localhost:8081/predict\"\n",
    "response = requests.post(url,json={\"text\":\"I don't know what I am gonna do tomorrow with my presentation.\"})\n",
    "response.raise_for_status()  # raises exception when not a 2xx response\n",
    "print(response.json())"
   ]
  }
 ],
 "metadata": {
  "kernelspec": {
   "display_name": "Python 3",
   "language": "python",
   "name": "python3"
  },
  "language_info": {
   "codemirror_mode": {
    "name": "ipython",
    "version": 3
   },
   "file_extension": ".py",
   "mimetype": "text/x-python",
   "name": "python",
   "nbconvert_exporter": "python",
   "pygments_lexer": "ipython3",
   "version": "3.9.16"
  },
  "orig_nbformat": 4
 },
 "nbformat": 4,
 "nbformat_minor": 2
}
